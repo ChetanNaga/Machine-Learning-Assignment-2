{
 "cells": [
  {
   "cell_type": "code",
   "execution_count": 2,
   "id": "0ff0458c",
   "metadata": {},
   "outputs": [],
   "source": [
    "Name:Naga Chetan Kumar Reddy\n",
    "    700743408"
   ]
  },
  {
   "cell_type": "code",
   "execution_count": 6,
   "id": "b759bcbf",
   "metadata": {},
   "outputs": [
    {
     "name": "stdout",
     "output_type": "stream",
     "text": [
      "* \n",
      "* * \n",
      "* * * \n",
      "* * * * \n",
      "* * * * * \n",
      "* * * * \n",
      "* * * \n",
      "* * \n",
      "* \n"
     ]
    }
   ],
   "source": [
    "#Question 1\n",
    "for i in range(1,6):\n",
    "    print(\"* \"*i)\n",
    "for i in range(1,5):\n",
    "    print (\"* \"*(5-i))"
   ]
  },
  {
   "cell_type": "code",
   "execution_count": 8,
   "id": "3a7dd705",
   "metadata": {},
   "outputs": [
    {
     "name": "stdout",
     "output_type": "stream",
     "text": [
      "20 40 60 80 100 "
     ]
    }
   ],
   "source": [
    "#Question 2\n",
    "my_list = [10, 20, 30, 40, 50, 60, 70, 80, 90, 100]\n",
    "for i in range(1,len(my_list),2):\n",
    "    print(my_list[i],end=\" \")"
   ]
  },
  {
   "cell_type": "code",
   "execution_count": 10,
   "id": "b515ec95",
   "metadata": {},
   "outputs": [
    {
     "name": "stdout",
     "output_type": "stream",
     "text": [
      "[23, 'Python', 23.98]\n",
      "[<class 'int'>, <class 'str'>, <class 'float'>]\n"
     ]
    }
   ],
   "source": [
    "#Question 3\n",
    "x= [23, 'Python', 23.98]\n",
    "l=[]\n",
    "for i in x:\n",
    "    l.append(type(i))\n",
    "print(x)\n",
    "print(l)"
   ]
  },
  {
   "cell_type": "code",
   "execution_count": 12,
   "id": "c6dc1be8",
   "metadata": {},
   "outputs": [
    {
     "name": "stdout",
     "output_type": "stream",
     "text": [
      "[1, 2, 3, 4, 5]\n"
     ]
    }
   ],
   "source": [
    "#Question 4\n",
    "def remove_duplicates(l):\n",
    "    return list(set(l))\n",
    "\n",
    "x=[1,2,3,3,3,3,4,5]\n",
    "print(remove_duplicates(x))"
   ]
  },
  {
   "cell_type": "code",
   "execution_count": 15,
   "id": "9f411bb8",
   "metadata": {},
   "outputs": [
    {
     "name": "stdout",
     "output_type": "stream",
     "text": [
      "No. of Upper-case characters : 3\n",
      "No. of Lower-case Characters : 12\n"
     ]
    }
   ],
   "source": [
    "#Question 5\n",
    "def cal(s):\n",
    "    u=0\n",
    "    l=0\n",
    "    for i in s:\n",
    "        if i.islower():\n",
    "            l+=1\n",
    "        elif i.isupper():\n",
    "            u+=1\n",
    "    print(\"No. of Upper-case characters :\",u)\n",
    "    print(\"No. of Lower-case Characters :\",l)\n",
    "    \n",
    "        \n",
    "s= 'The quick Brow Fox'\n",
    "cal(s)"
   ]
  },
  {
   "cell_type": "code",
   "execution_count": null,
   "id": "e09084c5",
   "metadata": {},
   "outputs": [],
   "source": []
  }
 ],
 "metadata": {
  "kernelspec": {
   "display_name": "Python 3 (ipykernel)",
   "language": "python",
   "name": "python3"
  },
  "language_info": {
   "codemirror_mode": {
    "name": "ipython",
    "version": 3
   },
   "file_extension": ".py",
   "mimetype": "text/x-python",
   "name": "python",
   "nbconvert_exporter": "python",
   "pygments_lexer": "ipython3",
   "version": "3.9.13"
  }
 },
 "nbformat": 4,
 "nbformat_minor": 5
}
